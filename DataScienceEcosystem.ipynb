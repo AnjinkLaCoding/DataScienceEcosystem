{
  "metadata": {
    "kernelspec": {
      "name": "python",
      "display_name": "Python (Pyodide)",
      "language": "python"
    },
    "language_info": {
      "codemirror_mode": {
        "name": "python",
        "version": 3
      },
      "file_extension": ".py",
      "mimetype": "text/x-python",
      "name": "python",
      "nbconvert_exporter": "python",
      "pygments_lexer": "ipython3",
      "version": "3.8"
    }
  },
  "nbformat_minor": 5,
  "nbformat": 4,
  "cells": [
    {
      "id": "a0d9d8d3-7864-469d-876e-2711e9d32ba2",
      "cell_type": "markdown",
      "source": "<h1>Data Science Tools and Ecosystem</h1>",
      "metadata": {}
    },
    {
      "id": "10dc0f4a-04d1-4417-b84e-7ceae5b79ae3",
      "cell_type": "markdown",
      "source": "In this notebook, Data Science Tools and Ecosystem are summarized.",
      "metadata": {}
    },
    {
      "id": "e1eb2e2e-0fbb-444a-b8c1-ee96b26ba70b",
      "cell_type": "markdown",
      "source": "Some of the popular languages that Data Scientists use are:\n- Python\n- R\n- SQL",
      "metadata": {}
    },
    {
      "id": "a1564f66-791a-4292-8d3c-a118c6cbef31",
      "cell_type": "markdown",
      "source": "Some of the commonly used libraries used by Data Scientists include:\n- Panda\n- NumPy\n- Pytorch\n- Matplotlib",
      "metadata": {}
    },
    {
      "id": "090f7644-f838-4857-92df-8eaa98d0fa41",
      "cell_type": "markdown",
      "source": "|Data Science Tools|\n| ---------------- |\n|Jupyter Notebook|\n|R Studio|\n|JupyterLab|",
      "metadata": {}
    },
    {
      "id": "824b4fd4-48f1-4ed2-8fc1-681a02fb4a13",
      "cell_type": "markdown",
      "source": "<h3>Below are a few examples of evaluating arithmetic expressions in Python</h3>",
      "metadata": {}
    },
    {
      "id": "a519d063-e697-4983-b5b7-a8e1ea108b0b",
      "cell_type": "code",
      "source": "#This a simple arithmetic expression to mutiply then add integers\n(3*4)+5",
      "metadata": {
        "trusted": true
      },
      "outputs": [
        {
          "execution_count": 1,
          "output_type": "execute_result",
          "data": {
            "text/plain": "17"
          },
          "metadata": {}
        }
      ],
      "execution_count": 1
    },
    {
      "id": "d57cc43e-d154-4050-8822-2051c6adb247",
      "cell_type": "code",
      "source": "#This will convert 200 minutes to hours by diving by 60\n200/60",
      "metadata": {
        "trusted": true
      },
      "outputs": [
        {
          "execution_count": 2,
          "output_type": "execute_result",
          "data": {
            "text/plain": "3.3333333333333335"
          },
          "metadata": {}
        }
      ],
      "execution_count": 2
    },
    {
      "id": "b4142654-16d7-4dc1-803a-caab3c165c6e",
      "cell_type": "markdown",
      "source": "<b>Objectives:</b> List popular languages for Data Science:\n- Python\n- R\n- SQL\n- Java\n- Julia",
      "metadata": {}
    },
    {
      "id": "e4e336f0-8699-499b-9fcd-26ae8d8197b0",
      "cell_type": "markdown",
      "source": "<H2>Author</H2>\nMatthew Alexander",
      "metadata": {}
    },
    {
      "id": "0f629ad1-f6aa-4654-8248-de1a4c75efe7",
      "cell_type": "code",
      "source": "",
      "metadata": {
        "trusted": true
      },
      "outputs": [],
      "execution_count": null
    }
  ]
}